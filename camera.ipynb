{
 "cells": [
  {
   "cell_type": "code",
   "execution_count": 37,
   "metadata": {},
   "outputs": [],
   "source": [
    "import cv2\n",
    "import numpy as np\n",
    "import mss"
   ]
  },
  {
   "cell_type": "code",
   "execution_count": 24,
   "metadata": {},
   "outputs": [
    {
     "data": {
      "text/plain": [
       "[(217, 312),\n",
       " (308, 306),\n",
       " (561, 309),\n",
       " (625, 320),\n",
       " (797, 353),\n",
       " (799, 408),\n",
       " (669, 406),\n",
       " (413, 406),\n",
       " (303, 415),\n",
       " (214, 441),\n",
       " (216, 313)]"
      ]
     },
     "execution_count": 24,
     "metadata": {},
     "output_type": "execute_result"
    }
   ],
   "source": [
    "from NeuronTheftAuto.helper_function.Roi_Collectior import collect_roi_coordinates\n",
    "\n",
    "collect_roi_coordinates('img1.jpg')"
   ]
  },
  {
   "cell_type": "markdown",
   "metadata": {},
   "source": [
    "[(3, 320), (161, 302), (205, 281), (464, 288), (570, 313), (799, 381), (799, 599), (1, 599), (4, 321)]"
   ]
  },
  {
   "cell_type": "code",
   "execution_count": 35,
   "metadata": {},
   "outputs": [],
   "source": [
    "import cv2\n",
    "import numpy as np\n",
    "import mss\n",
    "\n",
    "def roi(img,vertices):\n",
    "    mask = np.zeros_like(img)\n",
    "    cv2.fillPoly(mask,vertices,255)\n",
    "    masked = cv2.bitwise_and(img,mask)\n",
    "    return masked\n",
    "\n",
    "def draw_lines(img,lines):\n",
    "    try:\n",
    "        for line in lines:\n",
    "            coords = line[0]\n",
    "            cv2.line(img,(coords[0],coords[1]),(coords[2],coords[3]),[255,255,255],3)\n",
    "    except:\n",
    "        pass\n",
    "\n",
    "def process_image(frame):\n",
    "    gray = cv2.cvtColor(frame, cv2.COLOR_BGR2GRAY)\n",
    "    edges = cv2.Canny(gray, threshold1=100, threshold2=200)\n",
    "    \n",
    "    edges = cv2.GaussianBlur(edges,(5,5),0)\n",
    "\n",
    "    vertices = np.array([(3, 320), (161, 302), (205, 281), (464, 288), (570, 313), (799, 381), (799, 599), (1, 599), (4, 321)])\n",
    "    processed_img = roi(edges,[vertices])\n",
    "\n",
    "    lines = cv2.HoughLinesP(processed_img,1,np.pi/180,180,np.array([]),200,5)\n",
    "    draw_lines(processed_img,lines)\n",
    "\n",
    "    return processed_img\n",
    "\n",
    "def capture_real_time_screen_cv2(x, y, width, height, fps=15):\n",
    "    monitor = {\"top\": y, \"left\": x, \"width\": width, \"height\": height}\n",
    "    \n",
    "    with mss.mss() as sct:\n",
    "        while True:\n",
    "            frame = np.array(sct.grab(monitor))\n",
    "            frame = cv2.cvtColor(frame, cv2.COLOR_BGRA2BGR)\n",
    "            processed_frame = process_image(frame)\n",
    "            cv2.imshow(\"Real-time Screen Capture\", processed_frame)\n",
    "\n",
    "            if cv2.waitKey(1) & 0xFF == ord('q'):\n",
    "                # cv2.imwrite(\"img1.jpg\",frame)\n",
    "                break\n",
    "    cv2.destroyAllWindows() "
   ]
  },
  {
   "cell_type": "code",
   "execution_count": 36,
   "metadata": {},
   "outputs": [],
   "source": [
    "x = 0\n",
    "y = 25\n",
    "width = 800\n",
    "height = 600\n",
    "capture_real_time_screen_cv2(x, y, width, height, fps=30)"
   ]
  },
  {
   "cell_type": "code",
   "execution_count": 15,
   "metadata": {},
   "outputs": [],
   "source": [
    "from NeuronTheftAuto.helper_function.KeySender import PressKey,ReleaseKey,W,A,S,D,SPACEBAR,LSHIFT\n",
    "import time"
   ]
  },
  {
   "cell_type": "code",
   "execution_count": 5,
   "metadata": {},
   "outputs": [
    {
     "name": "stdout",
     "output_type": "stream",
     "text": [
      "0\n",
      "1\n",
      "2\n",
      "3\n"
     ]
    }
   ],
   "source": [
    "# for i in range(4):\n",
    "#     print(i)\n",
    "#     time.sleep(1)\n",
    "# PressKey(W)\n",
    "# time.sleep(2)\n",
    "# ReleaseKey(W)\n",
    "# time.sleep(2)"
   ]
  },
  {
   "cell_type": "code",
   "execution_count": 2,
   "metadata": {},
   "outputs": [
    {
     "name": "stdout",
     "output_type": "stream",
     "text": [
      "File does not exist, starting fresh!\n"
     ]
    }
   ],
   "source": [
    "from NeuronTheftAuto.helper_function.Data_Collector import main"
   ]
  },
  {
   "cell_type": "code",
   "execution_count": 3,
   "metadata": {},
   "outputs": [
    {
     "name": "stdout",
     "output_type": "stream",
     "text": [
      "5\n",
      "4\n",
      "3\n",
      "2\n",
      "1\n",
      "100\n",
      "200\n",
      "300\n",
      "400\n",
      "500\n",
      "600\n",
      "700\n",
      "800\n",
      "900\n",
      "1000\n",
      "1100\n",
      "1200\n",
      "1300\n",
      "1400\n",
      "1500\n",
      "1600\n",
      "1700\n",
      "1800\n"
     ]
    }
   ],
   "source": [
    "main()"
   ]
  },
  {
   "cell_type": "code",
   "execution_count": null,
   "metadata": {},
   "outputs": [],
   "source": []
  }
 ],
 "metadata": {
  "kernelspec": {
   "display_name": "obj_env",
   "language": "python",
   "name": "python3"
  },
  "language_info": {
   "codemirror_mode": {
    "name": "ipython",
    "version": 3
   },
   "file_extension": ".py",
   "mimetype": "text/x-python",
   "name": "python",
   "nbconvert_exporter": "python",
   "pygments_lexer": "ipython3",
   "version": "3.10.0"
  }
 },
 "nbformat": 4,
 "nbformat_minor": 2
}
