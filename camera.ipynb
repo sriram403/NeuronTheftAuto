{
 "cells": [
  {
   "cell_type": "code",
   "execution_count": 20,
   "metadata": {},
   "outputs": [],
   "source": [
    "import cv2\n",
    "import numpy as np\n",
    "import mss\n",
    "\n",
    "def process_image(frame):\n",
    "    gray = cv2.cvtColor(frame, cv2.COLOR_BGR2GRAY)\n",
    "    edges = cv2.Canny(gray, threshold1=100, threshold2=200)\n",
    "    return edges\n",
    "\n",
    "def capture_real_time_screen_cv2(x, y, width, height, fps=15):\n",
    "    monitor = {\"top\": y, \"left\": x, \"width\": width, \"height\": height}\n",
    "    \n",
    "    with mss.mss() as sct:\n",
    "        while True:\n",
    "            frame = np.array(sct.grab(monitor))\n",
    "            frame = cv2.cvtColor(frame, cv2.COLOR_BGRA2BGR)\n",
    "            frame = process_image(frame)\n",
    "            cv2.imshow(\"Real-time Screen Capture\", frame)\n",
    "            if cv2.waitKey(1) & 0xFF == ord('q'):\n",
    "                break\n",
    "    cv2.destroyAllWindows() "
   ]
  },
  {
   "cell_type": "code",
   "execution_count": 21,
   "metadata": {},
   "outputs": [],
   "source": [
    "x = 0\n",
    "y = 25\n",
    "width = 800\n",
    "height = 600\n",
    "capture_real_time_screen_cv2(x, y, width, height, fps=30)"
   ]
  },
  {
   "cell_type": "code",
   "execution_count": null,
   "metadata": {},
   "outputs": [],
   "source": []
  }
 ],
 "metadata": {
  "kernelspec": {
   "display_name": "obj_env",
   "language": "python",
   "name": "python3"
  },
  "language_info": {
   "codemirror_mode": {
    "name": "ipython",
    "version": 3
   },
   "file_extension": ".py",
   "mimetype": "text/x-python",
   "name": "python",
   "nbconvert_exporter": "python",
   "pygments_lexer": "ipython3",
   "version": "3.10.0"
  }
 },
 "nbformat": 4,
 "nbformat_minor": 2
}
