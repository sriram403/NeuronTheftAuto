{
 "cells": [
  {
   "cell_type": "markdown",
   "metadata": {},
   "source": [
    "[(3, 320), (161, 302), (205, 281), (464, 288), (570, 313), (799, 381), (799, 599), (1, 599), (4, 321)]"
   ]
  },
  {
   "cell_type": "code",
   "execution_count": 18,
   "metadata": {},
   "outputs": [],
   "source": [
    "import cv2\n",
    "import numpy as np\n",
    "import mss\n",
    "\n",
    "def roi(img,vertices):\n",
    "    mask = np.zeros_like(img)\n",
    "    cv2.fillPoly(mask,vertices,255)\n",
    "    masked = cv2.bitwise_and(img,mask)\n",
    "    return masked\n",
    "\n",
    "def process_image(frame):\n",
    "    gray = cv2.cvtColor(frame, cv2.COLOR_BGR2GRAY)\n",
    "    edges = cv2.Canny(gray, threshold1=100, threshold2=200)\n",
    "    vertices = np.array([(3, 320), (161, 302), (205, 281), (464, 288), (570, 313), (799, 381), (799, 599), (1, 599), (4, 321)])\n",
    "    processed_img = roi(edges,[vertices])\n",
    "    return processed_img\n",
    "\n",
    "def capture_real_time_screen_cv2(x, y, width, height, fps=15):\n",
    "    monitor = {\"top\": y, \"left\": x, \"width\": width, \"height\": height}\n",
    "    \n",
    "    with mss.mss() as sct:\n",
    "        while True:\n",
    "            frame = np.array(sct.grab(monitor))\n",
    "            frame = cv2.cvtColor(frame, cv2.COLOR_BGRA2BGR)\n",
    "            processed_frame = process_image(frame)\n",
    "            cv2.imshow(\"Real-time Screen Capture\", processed_frame)\n",
    "\n",
    "            if cv2.waitKey(1) & 0xFF == ord('q'):\n",
    "                # cv2.imwrite(\"img1.jpg\",frame)\n",
    "                break\n",
    "    cv2.destroyAllWindows() "
   ]
  },
  {
   "cell_type": "code",
   "execution_count": 19,
   "metadata": {},
   "outputs": [],
   "source": [
    "x = 0\n",
    "y = 25\n",
    "width = 800\n",
    "height = 600\n",
    "capture_real_time_screen_cv2(x, y, width, height, fps=30)"
   ]
  },
  {
   "cell_type": "code",
   "execution_count": 15,
   "metadata": {},
   "outputs": [],
   "source": [
    "from NeuronTheftAuto.helper_function.KeySender import PressKey,ReleaseKey,W,A,S,D,SPACEBAR,LSHIFT\n",
    "import time"
   ]
  },
  {
   "cell_type": "code",
   "execution_count": 5,
   "metadata": {},
   "outputs": [
    {
     "name": "stdout",
     "output_type": "stream",
     "text": [
      "0\n",
      "1\n",
      "2\n",
      "3\n"
     ]
    }
   ],
   "source": [
    "# for i in range(4):\n",
    "#     print(i)\n",
    "#     time.sleep(1)\n",
    "# PressKey(W)\n",
    "# time.sleep(2)\n",
    "# ReleaseKey(W)\n",
    "# time.sleep(2)"
   ]
  },
  {
   "cell_type": "code",
   "execution_count": null,
   "metadata": {},
   "outputs": [],
   "source": []
  }
 ],
 "metadata": {
  "kernelspec": {
   "display_name": "obj_env",
   "language": "python",
   "name": "python3"
  },
  "language_info": {
   "codemirror_mode": {
    "name": "ipython",
    "version": 3
   },
   "file_extension": ".py",
   "mimetype": "text/x-python",
   "name": "python",
   "nbconvert_exporter": "python",
   "pygments_lexer": "ipython3",
   "version": "3.10.0"
  }
 },
 "nbformat": 4,
 "nbformat_minor": 2
}
